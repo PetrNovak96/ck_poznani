{
 "cells": [
  {
   "cell_type": "markdown",
   "metadata": {},
   "source": [
    "# Knihovny"
   ]
  },
  {
   "cell_type": "code",
   "execution_count": 29,
   "metadata": {},
   "outputs": [],
   "source": [
    "import numpy as np\n",
    "import matplotlib.pyplot as plt\n",
    "import pandas as pd"
   ]
  },
  {
   "cell_type": "markdown",
   "metadata": {},
   "source": [
    "# Načtení CSV souborů"
   ]
  },
  {
   "cell_type": "code",
   "execution_count": 440,
   "metadata": {},
   "outputs": [],
   "source": [
    "clicks = pd.read_csv('https://raw.githubusercontent.com/PetrNovak96/ck_poznani/master/data/clicks.csv',sep=',')\n",
    "visits = pd.read_csv('https://raw.githubusercontent.com/PetrNovak96/ck_poznani/master/data/visitors.csv',sep=';')\n",
    "streams = pd.read_csv('https://raw.githubusercontent.com/PetrNovak96/ck_poznani/master/data/Clickstreams.csv',sep=';')\n",
    "se_map = pd.read_csv('https://raw.githubusercontent.com/PetrNovak96/ck_poznani/master/data/search_engine_map.csv',sep=',')"
   ]
  },
  {
   "cell_type": "markdown",
   "metadata": {},
   "source": [
    "# Průměrný Conversion rate a bounce rate"
   ]
  },
  {
   "cell_type": "code",
   "execution_count": 441,
   "metadata": {},
   "outputs": [
    {
     "name": "stdout",
     "output_type": "stream",
     "text": [
      "Průměrný converion rate:\t0.0398\n",
      "Průměrný bounce rate:\t\t0.5729\n"
     ]
    }
   ],
   "source": [
    "# conversion rate\n",
    "conv_visitIDs = clicks.loc[clicks['PageName'] == 'n_katalog.asp'].VisitID.unique()\n",
    "all_visitIDs = clicks.VisitID.unique()\n",
    "conv_rate = conv_visitIDs.shape[0] / all_visitIDs.shape[0]\n",
    "print(\"Průměrný converion rate:\\t{}\".format(round(conv_rate,4)))\n",
    "\n",
    "# bounce rate\n",
    "bounce_visitIDs = visits.loc[visits['Delka_pocetstranek'] == 1].VisitID\n",
    "bounce_rate = bounce_visitIDs.shape[0] / all_visitIDs.shape[0]\n",
    "print(\"Průměrný bounce rate:\\t\\t{}\".format(round(bounce_rate,4)))"
   ]
  },
  {
   "cell_type": "markdown",
   "metadata": {},
   "source": [
    "# \"Bounce pages\""
   ]
  },
  {
   "cell_type": "code",
   "execution_count": 442,
   "metadata": {},
   "outputs": [
    {
     "data": {
      "text/html": [
       "<div>\n",
       "<style scoped>\n",
       "    .dataframe tbody tr th:only-of-type {\n",
       "        vertical-align: middle;\n",
       "    }\n",
       "\n",
       "    .dataframe tbody tr th {\n",
       "        vertical-align: top;\n",
       "    }\n",
       "\n",
       "    .dataframe thead th {\n",
       "        text-align: right;\n",
       "    }\n",
       "</style>\n",
       "<table border=\"1\" class=\"dataframe\">\n",
       "  <thead>\n",
       "    <tr style=\"text-align: right;\">\n",
       "      <th></th>\n",
       "      <th>count</th>\n",
       "    </tr>\n",
       "    <tr>\n",
       "      <th>PageName</th>\n",
       "      <th></th>\n",
       "    </tr>\n",
       "  </thead>\n",
       "  <tbody>\n",
       "    <tr>\n",
       "      <th>www.poznani.cz</th>\n",
       "      <td>2597</td>\n",
       "    </tr>\n",
       "    <tr>\n",
       "      <th>poznani.cz</th>\n",
       "      <td>198</td>\n",
       "    </tr>\n",
       "    <tr>\n",
       "      <th>lastminute</th>\n",
       "      <td>116</td>\n",
       "    </tr>\n",
       "    <tr>\n",
       "      <th>bulharsko</th>\n",
       "      <td>106</td>\n",
       "    </tr>\n",
       "    <tr>\n",
       "      <th>korsika</th>\n",
       "      <td>96</td>\n",
       "    </tr>\n",
       "    <tr>\n",
       "      <th>...</th>\n",
       "      <td>...</td>\n",
       "    </tr>\n",
       "    <tr>\n",
       "      <th>srbsko-eerná-hora-bosna-a-hercegovina-poklady-a-tajemství-jugoslávského-balkánu-dovolená-2005.htm</th>\n",
       "      <td>1</td>\n",
       "    </tr>\n",
       "    <tr>\n",
       "      <th>srbsko-černá-hora-bosna-a-hercegovina-poklady-a-tajemství-jugoslávského-balkánu.htm</th>\n",
       "      <td>1</td>\n",
       "    </tr>\n",
       "    <tr>\n",
       "      <th>irsko-wales-irsko-země-keltských-tradic-a-přírodní-parky-walesu-dovolená-a-turistika-2005.htm</th>\n",
       "      <td>1</td>\n",
       "    </tr>\n",
       "    <tr>\n",
       "      <th>sázava-romantická-řeka.htm</th>\n",
       "      <td>1</td>\n",
       "    </tr>\n",
       "    <tr>\n",
       "      <th>+lastminute&amp;hl=cs&amp;lr=lang_cs</th>\n",
       "      <td>1</td>\n",
       "    </tr>\n",
       "  </tbody>\n",
       "</table>\n",
       "<p>737 rows × 1 columns</p>\n",
       "</div>"
      ],
      "text/plain": [
       "                                                    count\n",
       "PageName                                                 \n",
       "www.poznani.cz                                       2597\n",
       "poznani.cz                                            198\n",
       "lastminute                                            116\n",
       "bulharsko                                             106\n",
       "korsika                                                96\n",
       "...                                                   ...\n",
       "srbsko-eerná-hora-bosna-a-hercegovina-poklady-a...      1\n",
       "srbsko-černá-hora-bosna-a-hercegovina-poklady-a...      1\n",
       "irsko-wales-irsko-země-keltských-tradic-a-příro...      1\n",
       "sázava-romantická-řeka.htm                              1\n",
       "+lastminute&hl=cs&lr=lang_cs                            1\n",
       "\n",
       "[737 rows x 1 columns]"
      ]
     },
     "execution_count": 442,
     "metadata": {},
     "output_type": "execute_result"
    }
   ],
   "source": [
    "bounce_clicks = clicks.loc[clicks['VisitID'].isin(bounce_visitIDs)]\n",
    "bounce_pages = bounce_clicks.groupby(['PageName']).size().sort_values(ascending=False)\n",
    "bounce_pages = bounce_pages.to_frame()\n",
    "bounce_pages.columns = ['count']\n",
    "bounce_pages\n",
    "#bounce_pages.head(10)"
   ]
  },
  {
   "cell_type": "markdown",
   "metadata": {},
   "source": [
    "# Vztah typu refereru vůči bounce a convergence rate"
   ]
  },
  {
   "cell_type": "code",
   "execution_count": 443,
   "metadata": {},
   "outputs": [
    {
     "data": {
      "text/html": [
       "<div>\n",
       "<style scoped>\n",
       "    .dataframe tbody tr th:only-of-type {\n",
       "        vertical-align: middle;\n",
       "    }\n",
       "\n",
       "    .dataframe tbody tr th {\n",
       "        vertical-align: top;\n",
       "    }\n",
       "\n",
       "    .dataframe thead tr th {\n",
       "        text-align: left;\n",
       "    }\n",
       "\n",
       "    .dataframe thead tr:last-of-type th {\n",
       "        text-align: right;\n",
       "    }\n",
       "</style>\n",
       "<table border=\"1\" class=\"dataframe\">\n",
       "  <thead>\n",
       "    <tr>\n",
       "      <th></th>\n",
       "      <th>TypOdkazovace</th>\n",
       "      <th>Bounce</th>\n",
       "      <th>Konverze</th>\n",
       "      <th>Bounce rate %</th>\n",
       "      <th>Convergence rate %</th>\n",
       "    </tr>\n",
       "    <tr>\n",
       "      <th></th>\n",
       "      <th>count</th>\n",
       "      <th>sum</th>\n",
       "      <th>sum</th>\n",
       "      <th></th>\n",
       "      <th></th>\n",
       "    </tr>\n",
       "    <tr>\n",
       "      <th>TypOdkazovace</th>\n",
       "      <th></th>\n",
       "      <th></th>\n",
       "      <th></th>\n",
       "      <th></th>\n",
       "      <th></th>\n",
       "    </tr>\n",
       "  </thead>\n",
       "  <tbody>\n",
       "    <tr>\n",
       "      <th>Fulltext</th>\n",
       "      <td>7168</td>\n",
       "      <td>4921</td>\n",
       "      <td>168</td>\n",
       "      <td>68.65</td>\n",
       "      <td>2.34</td>\n",
       "    </tr>\n",
       "    <tr>\n",
       "      <th>Neni</th>\n",
       "      <td>5821</td>\n",
       "      <td>2790</td>\n",
       "      <td>314</td>\n",
       "      <td>47.93</td>\n",
       "      <td>5.39</td>\n",
       "    </tr>\n",
       "    <tr>\n",
       "      <th>OstatniNerozliseno</th>\n",
       "      <td>402</td>\n",
       "      <td>160</td>\n",
       "      <td>17</td>\n",
       "      <td>39.80</td>\n",
       "      <td>4.23</td>\n",
       "    </tr>\n",
       "    <tr>\n",
       "      <th>Partneri</th>\n",
       "      <td>580</td>\n",
       "      <td>278</td>\n",
       "      <td>39</td>\n",
       "      <td>47.93</td>\n",
       "      <td>6.72</td>\n",
       "    </tr>\n",
       "    <tr>\n",
       "      <th>Vlastni Weby</th>\n",
       "      <td>824</td>\n",
       "      <td>558</td>\n",
       "      <td>12</td>\n",
       "      <td>67.72</td>\n",
       "      <td>1.46</td>\n",
       "    </tr>\n",
       "    <tr>\n",
       "      <th>katalog</th>\n",
       "      <td>764</td>\n",
       "      <td>208</td>\n",
       "      <td>70</td>\n",
       "      <td>27.23</td>\n",
       "      <td>9.16</td>\n",
       "    </tr>\n",
       "  </tbody>\n",
       "</table>\n",
       "</div>"
      ],
      "text/plain": [
       "                   TypOdkazovace Bounce Konverze Bounce rate %  \\\n",
       "                           count    sum      sum                 \n",
       "TypOdkazovace                                                    \n",
       "Fulltext                    7168   4921      168         68.65   \n",
       "Neni                        5821   2790      314         47.93   \n",
       "OstatniNerozliseno           402    160       17         39.80   \n",
       "Partneri                     580    278       39         47.93   \n",
       "Vlastni Weby                 824    558       12         67.72   \n",
       "katalog                      764    208       70         27.23   \n",
       "\n",
       "                   Convergence rate %  \n",
       "                                       \n",
       "TypOdkazovace                          \n",
       "Fulltext                         2.34  \n",
       "Neni                             5.39  \n",
       "OstatniNerozliseno               4.23  \n",
       "Partneri                         6.72  \n",
       "Vlastni Weby                     1.46  \n",
       "katalog                          9.16  "
      ]
     },
     "execution_count": 443,
     "metadata": {},
     "output_type": "execute_result"
    }
   ],
   "source": [
    "visits['Bounce'] = visits['VisitID'].isin(bounce_visitIDs).astype(int)\n",
    "visits['Konverze'] = visits['VisitID'].isin(conv_visitIDs).astype(int)\n",
    "\n",
    "merged = pd.merge(\n",
    "    visits[['VisitID','Referrer','Bounce','Konverze']],\n",
    "    se_map[['Referrer','TypOdkazovace']],\n",
    "    on='Referrer')[['VisitID','Referrer','TypOdkazovace','Bounce','Konverze']] \n",
    "\n",
    "grouped = merged.drop(['VisitID','Referrer'],axis=1).groupby(['TypOdkazovace']).agg({'TypOdkazovace': ['count'], 'Bounce': ['sum'],'Konverze': ['sum']})\n",
    "grouped['Bounce rate %'] = round((grouped['Bounce']['sum'] / grouped['TypOdkazovace']['count'])*100,2)\n",
    "grouped['Convergence rate %'] = round( (grouped['Konverze']['sum'] / grouped['TypOdkazovace']['count'])*100,2)\n",
    "grouped"
   ]
  },
  {
   "cell_type": "markdown",
   "metadata": {},
   "source": [
    "# Tabulka korelací"
   ]
  },
  {
   "cell_type": "code",
   "execution_count": 444,
   "metadata": {},
   "outputs": [
    {
     "data": {
      "text/html": [
       "<div>\n",
       "<style scoped>\n",
       "    .dataframe tbody tr th:only-of-type {\n",
       "        vertical-align: middle;\n",
       "    }\n",
       "\n",
       "    .dataframe tbody tr th {\n",
       "        vertical-align: top;\n",
       "    }\n",
       "\n",
       "    .dataframe thead th {\n",
       "        text-align: right;\n",
       "    }\n",
       "</style>\n",
       "<table border=\"1\" class=\"dataframe\">\n",
       "  <thead>\n",
       "    <tr style=\"text-align: right;\">\n",
       "      <th></th>\n",
       "      <th>TypOdkazovace</th>\n",
       "      <th>Bounce</th>\n",
       "      <th>Konverze</th>\n",
       "    </tr>\n",
       "  </thead>\n",
       "  <tbody>\n",
       "    <tr>\n",
       "      <th>TypOdkazovace</th>\n",
       "      <td>1.000000</td>\n",
       "      <td>-0.156028</td>\n",
       "      <td>0.058699</td>\n",
       "    </tr>\n",
       "    <tr>\n",
       "      <th>Bounce</th>\n",
       "      <td>-0.156028</td>\n",
       "      <td>1.000000</td>\n",
       "      <td>-0.188155</td>\n",
       "    </tr>\n",
       "    <tr>\n",
       "      <th>Konverze</th>\n",
       "      <td>0.058699</td>\n",
       "      <td>-0.188155</td>\n",
       "      <td>1.000000</td>\n",
       "    </tr>\n",
       "  </tbody>\n",
       "</table>\n",
       "</div>"
      ],
      "text/plain": [
       "               TypOdkazovace    Bounce  Konverze\n",
       "TypOdkazovace       1.000000 -0.156028  0.058699\n",
       "Bounce             -0.156028  1.000000 -0.188155\n",
       "Konverze            0.058699 -0.188155  1.000000"
      ]
     },
     "execution_count": 444,
     "metadata": {},
     "output_type": "execute_result"
    }
   ],
   "source": [
    "merged.drop(['VisitID'],axis=1).assign(TypOdkazovace=merged.TypOdkazovace.astype('category').cat.codes).corr()"
   ]
  }
 ],
 "metadata": {
  "kernelspec": {
   "display_name": "Python 3",
   "language": "python",
   "name": "python3"
  },
  "language_info": {
   "codemirror_mode": {
    "name": "ipython",
    "version": 3
   },
   "file_extension": ".py",
   "mimetype": "text/x-python",
   "name": "python",
   "nbconvert_exporter": "python",
   "pygments_lexer": "ipython3",
   "version": "3.8.2"
  }
 },
 "nbformat": 4,
 "nbformat_minor": 4
}
