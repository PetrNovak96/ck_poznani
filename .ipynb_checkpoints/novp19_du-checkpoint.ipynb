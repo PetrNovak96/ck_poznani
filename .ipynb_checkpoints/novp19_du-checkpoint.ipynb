{
 "cells": [
  {
   "cell_type": "code",
   "execution_count": 29,
   "metadata": {},
   "outputs": [],
   "source": [
    "import numpy as np\n",
    "import matplotlib.pyplot as plt\n",
    "import pandas as pd"
   ]
  },
  {
   "cell_type": "code",
   "execution_count": 140,
   "metadata": {},
   "outputs": [],
   "source": [
    "clicks = pd.read_csv('clicks.csv',sep=',', engine='python')\n",
    "visits = pd.read_csv('visitors.csv',sep=';', engine='python')\n",
    "streams = pd.read_csv('Clickstreams.csv',sep=';', engine='python')\n",
    "se_map = pd.read_csv('search_engine_map.csv',sep=',', engine='python')"
   ]
  },
  {
   "cell_type": "markdown",
   "metadata": {},
   "source": [
    "* Konverzní poměr, bounce rate\n",
    "* Četnosti stránek v roli bounce page\n",
    "* Korelaci typu referreru s výskytem konverze a bounce (jako podmíněné četnosti, vypočtené oběma směry)"
   ]
  },
  {
   "cell_type": "code",
   "execution_count": 90,
   "metadata": {},
   "outputs": [
    {
     "data": {
      "text/plain": [
       "0.03984575835475578"
      ]
     },
     "execution_count": 90,
     "metadata": {},
     "output_type": "execute_result"
    }
   ],
   "source": [
    "# conversion rate\n",
    "conv_visitIDs = clicks.loc[clicks['PageName'] == 'n_katalog.asp'].VisitID.unique()\n",
    "all_visitIDs = clicks.VisitID.unique()\n",
    "conv_rate = conv_visitIDs.shape[0] / all_visitIDs.shape[0]\n",
    "conv_rate"
   ]
  },
  {
   "cell_type": "code",
   "execution_count": 99,
   "metadata": {},
   "outputs": [
    {
     "data": {
      "text/plain": [
       "0.5729434447300771"
      ]
     },
     "execution_count": 99,
     "metadata": {},
     "output_type": "execute_result"
    }
   ],
   "source": [
    "# bounce rate\n",
    "bounce_visitIDs = visits.loc[visits['Delka_pocetstranek'] == 1].VisitID\n",
    "bounce_rate = bounce_visitIDs.shape[0] / all_visitIDs.shape[0]\n",
    "bounce_rate"
   ]
  },
  {
   "cell_type": "code",
   "execution_count": 161,
   "metadata": {},
   "outputs": [
    {
     "data": {
      "text/html": [
       "<div>\n",
       "<style scoped>\n",
       "    .dataframe tbody tr th:only-of-type {\n",
       "        vertical-align: middle;\n",
       "    }\n",
       "\n",
       "    .dataframe tbody tr th {\n",
       "        vertical-align: top;\n",
       "    }\n",
       "\n",
       "    .dataframe thead th {\n",
       "        text-align: right;\n",
       "    }\n",
       "</style>\n",
       "<table border=\"1\" class=\"dataframe\">\n",
       "  <thead>\n",
       "    <tr style=\"text-align: right;\">\n",
       "      <th></th>\n",
       "      <th>count</th>\n",
       "    </tr>\n",
       "    <tr>\n",
       "      <th>PageName</th>\n",
       "      <th></th>\n",
       "    </tr>\n",
       "  </thead>\n",
       "  <tbody>\n",
       "    <tr>\n",
       "      <th>www.poznani.cz</th>\n",
       "      <td>2597</td>\n",
       "    </tr>\n",
       "    <tr>\n",
       "      <th>poznani.cz</th>\n",
       "      <td>198</td>\n",
       "    </tr>\n",
       "    <tr>\n",
       "      <th>lastminute</th>\n",
       "      <td>116</td>\n",
       "    </tr>\n",
       "    <tr>\n",
       "      <th>bulharsko</th>\n",
       "      <td>106</td>\n",
       "    </tr>\n",
       "    <tr>\n",
       "      <th>skotsko-velk�-okruh-skotskem.htm</th>\n",
       "      <td>96</td>\n",
       "    </tr>\n",
       "    <tr>\n",
       "      <th>...</th>\n",
       "      <td>...</td>\n",
       "    </tr>\n",
       "    <tr>\n",
       "      <th>irsko-wales-irsko-zem�-keltsk�ch-tradic-a-p��rodn�-parky-walesu-dovolen�-a-turistika-2005.htm</th>\n",
       "      <td>1</td>\n",
       "    </tr>\n",
       "    <tr>\n",
       "      <th>s�zava-romantick�-�eka.htm</th>\n",
       "      <td>1</td>\n",
       "    </tr>\n",
       "    <tr>\n",
       "      <th>irsko-pi?ky-z�padem-irska-dovolen�-2005.htm</th>\n",
       "      <td>1</td>\n",
       "    </tr>\n",
       "    <tr>\n",
       "      <th>tunisko-zemi-datl�-mooe-a-p�sku.htm</th>\n",
       "      <td>1</td>\n",
       "    </tr>\n",
       "    <tr>\n",
       "      <th>+lastminute&amp;hl=cs&amp;lr=lang_cs</th>\n",
       "      <td>1</td>\n",
       "    </tr>\n",
       "  </tbody>\n",
       "</table>\n",
       "<p>735 rows × 1 columns</p>\n",
       "</div>"
      ],
      "text/plain": [
       "                                                    count\n",
       "PageName                                                 \n",
       "www.poznani.cz                                       2597\n",
       "poznani.cz                                            198\n",
       "lastminute                                            116\n",
       "bulharsko                                             106\n",
       "skotsko-velk�-okruh-skotskem.htm                       96\n",
       "...                                                   ...\n",
       "irsko-wales-irsko-zem�-keltsk�ch-tradic-a-p��ro...      1\n",
       "s�zava-romantick�-�eka.htm                              1\n",
       "irsko-pi?ky-z�padem-irska-dovolen�-2005.htm             1\n",
       "tunisko-zemi-datl�-mooe-a-p�sku.htm                     1\n",
       "+lastminute&hl=cs&lr=lang_cs                            1\n",
       "\n",
       "[735 rows x 1 columns]"
      ]
     },
     "execution_count": 161,
     "metadata": {},
     "output_type": "execute_result"
    }
   ],
   "source": [
    "# bounce pages\n",
    "bounce_clicks = clicks.loc[clicks['VisitID'].isin(bounce_visitIDs)]\n",
    "bounce_pages = bounce_clicks.groupby(['PageName']).size().sort_values(ascending=False)\n",
    "bounce_pages = bounce_pages.to_frame()\n",
    "bounce_pages.columns = ['count']\n",
    "bounce_pages\n",
    "#bouce_pages.head(10)"
   ]
  },
  {
   "cell_type": "code",
   "execution_count": 173,
   "metadata": {},
   "outputs": [
    {
     "data": {
      "text/html": [
       "<div>\n",
       "<style scoped>\n",
       "    .dataframe tbody tr th:only-of-type {\n",
       "        vertical-align: middle;\n",
       "    }\n",
       "\n",
       "    .dataframe tbody tr th {\n",
       "        vertical-align: top;\n",
       "    }\n",
       "\n",
       "    .dataframe thead th {\n",
       "        text-align: right;\n",
       "    }\n",
       "</style>\n",
       "<table border=\"1\" class=\"dataframe\">\n",
       "  <thead>\n",
       "    <tr style=\"text-align: right;\">\n",
       "      <th></th>\n",
       "      <th>VisitID</th>\n",
       "      <th>Referrer</th>\n",
       "      <th>Den</th>\n",
       "      <th>Hodina</th>\n",
       "      <th>Delka_sekundy</th>\n",
       "      <th>Delka_pocetstranek</th>\n",
       "    </tr>\n",
       "  </thead>\n",
       "  <tbody>\n",
       "    <tr>\n",
       "      <th>0</th>\n",
       "      <td>1185</td>\n",
       "      <td>URI_9</td>\n",
       "      <td>Sunday</td>\n",
       "      <td>23</td>\n",
       "      <td>0</td>\n",
       "      <td>6</td>\n",
       "    </tr>\n",
       "    <tr>\n",
       "      <th>1</th>\n",
       "      <td>1186</td>\n",
       "      <td>URI_38</td>\n",
       "      <td>Sunday</td>\n",
       "      <td>23</td>\n",
       "      <td>300</td>\n",
       "      <td>2</td>\n",
       "    </tr>\n",
       "    <tr>\n",
       "      <th>2</th>\n",
       "      <td>1187</td>\n",
       "      <td>URI_0</td>\n",
       "      <td>Sunday</td>\n",
       "      <td>23</td>\n",
       "      <td>240</td>\n",
       "      <td>12</td>\n",
       "    </tr>\n",
       "    <tr>\n",
       "      <th>3</th>\n",
       "      <td>1188</td>\n",
       "      <td>URI_45</td>\n",
       "      <td>Monday</td>\n",
       "      <td>0</td>\n",
       "      <td>0</td>\n",
       "      <td>1</td>\n",
       "    </tr>\n",
       "    <tr>\n",
       "      <th>4</th>\n",
       "      <td>1189</td>\n",
       "      <td>URI_0</td>\n",
       "      <td>Monday</td>\n",
       "      <td>0</td>\n",
       "      <td>540</td>\n",
       "      <td>7</td>\n",
       "    </tr>\n",
       "    <tr>\n",
       "      <th>...</th>\n",
       "      <td>...</td>\n",
       "      <td>...</td>\n",
       "      <td>...</td>\n",
       "      <td>...</td>\n",
       "      <td>...</td>\n",
       "      <td>...</td>\n",
       "    </tr>\n",
       "    <tr>\n",
       "      <th>15554</th>\n",
       "      <td>17261</td>\n",
       "      <td>URI_5</td>\n",
       "      <td>Tuesday</td>\n",
       "      <td>14</td>\n",
       "      <td>0</td>\n",
       "      <td>1</td>\n",
       "    </tr>\n",
       "    <tr>\n",
       "      <th>15555</th>\n",
       "      <td>17262</td>\n",
       "      <td>URI_111</td>\n",
       "      <td>Tuesday</td>\n",
       "      <td>14</td>\n",
       "      <td>0</td>\n",
       "      <td>1</td>\n",
       "    </tr>\n",
       "    <tr>\n",
       "      <th>15556</th>\n",
       "      <td>17263</td>\n",
       "      <td>URI_111</td>\n",
       "      <td>Tuesday</td>\n",
       "      <td>14</td>\n",
       "      <td>0</td>\n",
       "      <td>1</td>\n",
       "    </tr>\n",
       "    <tr>\n",
       "      <th>15557</th>\n",
       "      <td>17264</td>\n",
       "      <td>URI_45</td>\n",
       "      <td>Tuesday</td>\n",
       "      <td>14</td>\n",
       "      <td>240</td>\n",
       "      <td>5</td>\n",
       "    </tr>\n",
       "    <tr>\n",
       "      <th>15558</th>\n",
       "      <td>17265</td>\n",
       "      <td>URI_0</td>\n",
       "      <td>Tuesday</td>\n",
       "      <td>14</td>\n",
       "      <td>360</td>\n",
       "      <td>5</td>\n",
       "    </tr>\n",
       "  </tbody>\n",
       "</table>\n",
       "<p>15559 rows × 6 columns</p>\n",
       "</div>"
      ],
      "text/plain": [
       "       VisitID Referrer      Den  Hodina  Delka_sekundy  Delka_pocetstranek\n",
       "0         1185    URI_9   Sunday      23              0                   6\n",
       "1         1186   URI_38   Sunday      23            300                   2\n",
       "2         1187    URI_0   Sunday      23            240                  12\n",
       "3         1188   URI_45   Monday       0              0                   1\n",
       "4         1189    URI_0   Monday       0            540                   7\n",
       "...        ...      ...      ...     ...            ...                 ...\n",
       "15554    17261    URI_5  Tuesday      14              0                   1\n",
       "15555    17262  URI_111  Tuesday      14              0                   1\n",
       "15556    17263  URI_111  Tuesday      14              0                   1\n",
       "15557    17264   URI_45  Tuesday      14            240                   5\n",
       "15558    17265    URI_0  Tuesday      14            360                   5\n",
       "\n",
       "[15559 rows x 6 columns]"
      ]
     },
     "execution_count": 173,
     "metadata": {},
     "output_type": "execute_result"
    }
   ],
   "source": [
    "# korelace\n",
    "# merguju visits (tam je pocet stránek (bounce)) a streams (tam je konverze) a se_map, tam je typ refereru"
   ]
  }
 ],
 "metadata": {
  "kernelspec": {
   "display_name": "Python 3",
   "language": "python",
   "name": "python3"
  },
  "language_info": {
   "codemirror_mode": {
    "name": "ipython",
    "version": 3
   },
   "file_extension": ".py",
   "mimetype": "text/x-python",
   "name": "python",
   "nbconvert_exporter": "python",
   "pygments_lexer": "ipython3",
   "version": "3.8.2"
  }
 },
 "nbformat": 4,
 "nbformat_minor": 4
}
